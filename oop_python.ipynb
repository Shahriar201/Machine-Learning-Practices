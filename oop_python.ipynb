{
 "cells": [
  {
   "cell_type": "markdown",
   "metadata": {},
   "source": [
    "# Simple Python Class Declear"
   ]
  },
  {
   "cell_type": "code",
   "execution_count": 66,
   "metadata": {},
   "outputs": [],
   "source": [
    "class Person:\n",
    "\n",
    "    #initial the variables\n",
    "    name = \"\"\n",
    "    age = 0\n",
    "    address = \"Dhaka\"\n",
    "\n",
    "    #define constructor\n",
    "    def __init__(self, person_name,person_age, address):\n",
    "        self.name = person_name\n",
    "        self.age = person_age\n",
    "        self.address = address\n",
    "\n",
    "    #defining class method\n",
    "    def show_name(self):\n",
    "        print(self.name)\n",
    "\n",
    "    def show_age(self):\n",
    "        print(self.age)\n",
    "\n",
    "    def show_address(self):\n",
    "        print(self.address)\n",
    "    \n",
    "    #end of the class\n"
   ]
  },
  {
   "cell_type": "code",
   "execution_count": 67,
   "metadata": {},
   "outputs": [
    {
     "name": "stdout",
     "output_type": "stream",
     "text": [
      "Shahriar\n",
      "26\n",
      "None\n"
     ]
    }
   ],
   "source": [
    "#create an Object of the class\n",
    "person1 = Person(\"Shahriar\", 26, None)\n",
    "\n",
    "#print all methods of the class using Object or instance\n",
    "person1.show_name()\n",
    "person1.show_age()\n",
    "person1.show_address()\n"
   ]
  },
  {
   "cell_type": "markdown",
   "metadata": {},
   "source": [
    "# HW Task"
   ]
  },
  {
   "cell_type": "code",
   "execution_count": 68,
   "metadata": {},
   "outputs": [
    {
     "name": "stdout",
     "output_type": "stream",
     "text": [
      "Today has a home work\n"
     ]
    }
   ],
   "source": [
    "#define the Task class\n",
    "class Task:\n",
    "\n",
    "    #define variables\n",
    "    task = \"\"\n",
    "\n",
    "    #constractor\n",
    "    def __init__(self, today_task):\n",
    "        self.task = today_task\n",
    "\n",
    "    #define method\n",
    "    def display(self):\n",
    "        print(self.task)\n",
    "    \n",
    "\n",
    "#create instance of the class\n",
    "task1 = Task(\"Today has a home work\")\n",
    "\n",
    "#call the method usign this instance\n",
    "task1.display()"
   ]
  },
  {
   "cell_type": "markdown",
   "metadata": {},
   "source": [
    "# Destructor"
   ]
  },
  {
   "cell_type": "code",
   "execution_count": 69,
   "metadata": {},
   "outputs": [
    {
     "name": "stdout",
     "output_type": "stream",
     "text": [
      "This is your task\n"
     ]
    }
   ],
   "source": [
    "task2 = Task(\"This is your task\")\n",
    "task2.display()\n",
    "\n",
    "#delete the object\n",
    "# del task2\n",
    "\n",
    "#again call the object for checking\n",
    "# task2.display()"
   ]
  },
  {
   "cell_type": "markdown",
   "metadata": {},
   "source": [
    "# Abstruction"
   ]
  },
  {
   "cell_type": "code",
   "execution_count": 70,
   "metadata": {},
   "outputs": [],
   "source": [
    "from abc import ABCMeta, abstractmethod\n",
    "# abc - Abstract Base Class\n",
    " \n",
    "class Fruit(metaclass = ABCMeta):\n",
    "    # @abstractmethod decorated\n",
    "\n",
    "    @abstractmethod\n",
    "    def get_shape(self):\n",
    "        pass  # add this \"pass\" when you don't add anything\n",
    "\n",
    "    @abstractmethod\n",
    "    def get_taste(self):\n",
    "        pass\n",
    "\n",
    "    @abstractmethod\n",
    "    def get_color(self):\n",
    "        pass\n",
    "\n",
    "# create class to access Abstract methods\n",
    "class Mango(Fruit):\n",
    "    def __init__(self, taste = \"Sweet\", color = \"Green\"):\n",
    "        self.shape = \"Oval\"\n",
    "        self.taste = taste\n",
    "        self.color = color\n",
    "\n",
    "    def get_shape(self):\n",
    "        return self.shape\n",
    "    \n",
    "    def get_taste(self):\n",
    "        return self.taste\n",
    "    \n",
    "    def get_color(self):\n",
    "        return self.color\n",
    "      \n",
    "        \n"
   ]
  },
  {
   "cell_type": "code",
   "execution_count": 71,
   "metadata": {},
   "outputs": [
    {
     "data": {
      "text/plain": [
       "'Oval'"
      ]
     },
     "execution_count": 71,
     "metadata": {},
     "output_type": "execute_result"
    }
   ],
   "source": [
    "# create object of Mango class\n",
    "mango1 = Mango()\n",
    "mango1.get_shape() "
   ]
  },
  {
   "cell_type": "code",
   "execution_count": 72,
   "metadata": {},
   "outputs": [
    {
     "data": {
      "text/plain": [
       "'Sweet'"
      ]
     },
     "execution_count": 72,
     "metadata": {},
     "output_type": "execute_result"
    }
   ],
   "source": [
    "mango1.get_taste()\n"
   ]
  },
  {
   "cell_type": "code",
   "execution_count": 73,
   "metadata": {},
   "outputs": [
    {
     "data": {
      "text/plain": [
       "'Sour'"
      ]
     },
     "execution_count": 73,
     "metadata": {},
     "output_type": "execute_result"
    }
   ],
   "source": [
    "# create new object with arg value\n",
    "wild_mango = Mango(\"Sour\")\n",
    "wild_mango.get_taste()"
   ]
  },
  {
   "cell_type": "code",
   "execution_count": 74,
   "metadata": {},
   "outputs": [
    {
     "data": {
      "text/plain": [
       "'Yellow'"
      ]
     },
     "execution_count": 74,
     "metadata": {},
     "output_type": "execute_result"
    }
   ],
   "source": [
    "garden_mango = Mango(\"Sweet\", \"Yellow\")\n",
    "garden_mango.get_color()"
   ]
  },
  {
   "cell_type": "markdown",
   "metadata": {},
   "source": [
    "# Encapsulation"
   ]
  },
  {
   "cell_type": "code",
   "execution_count": 75,
   "metadata": {},
   "outputs": [
    {
     "ename": "AttributeError",
     "evalue": "'Encapsulation' object has no attribute '__secret'",
     "output_type": "error",
     "traceback": [
      "\u001b[1;31m---------------------------------------------------------------------------\u001b[0m",
      "\u001b[1;31mAttributeError\u001b[0m                            Traceback (most recent call last)",
      "\u001b[1;32md:\\Machine Learning Course by Touhid\\Codes\\oop_python.ipynb Cell 15\u001b[0m line \u001b[0;36m1\n\u001b[0;32m     <a href='vscode-notebook-cell:/d%3A/Machine%20Learning%20Course%20by%20Touhid/Codes/oop_python.ipynb#X20sZmlsZQ%3D%3D?line=9'>10</a>\u001b[0m \u001b[39m#creating object of the class\u001b[39;00m\n\u001b[0;32m     <a href='vscode-notebook-cell:/d%3A/Machine%20Learning%20Course%20by%20Touhid/Codes/oop_python.ipynb#X20sZmlsZQ%3D%3D?line=10'>11</a>\u001b[0m enp \u001b[39m=\u001b[39m Encapsulation(\u001b[39m\"\u001b[39m\u001b[39mShahriar\u001b[39m\u001b[39m\"\u001b[39m, \u001b[39m1\u001b[39m)\n\u001b[1;32m---> <a href='vscode-notebook-cell:/d%3A/Machine%20Learning%20Course%20by%20Touhid/Codes/oop_python.ipynb#X20sZmlsZQ%3D%3D?line=12'>13</a>\u001b[0m \u001b[39mprint\u001b[39m(\u001b[39m\"\u001b[39m\u001b[39mBefore Name: \u001b[39m\u001b[39m\"\u001b[39m, enp\u001b[39m.\u001b[39;49m__secret)\n\u001b[0;32m     <a href='vscode-notebook-cell:/d%3A/Machine%20Learning%20Course%20by%20Touhid/Codes/oop_python.ipynb#X20sZmlsZQ%3D%3D?line=14'>15</a>\u001b[0m \u001b[39m# enp.secret = \"New value\"\u001b[39;00m\n\u001b[0;32m     <a href='vscode-notebook-cell:/d%3A/Machine%20Learning%20Course%20by%20Touhid/Codes/oop_python.ipynb#X20sZmlsZQ%3D%3D?line=15'>16</a>\u001b[0m \u001b[39m# print(\"After Name: \", enp.secret)\u001b[39;00m\n",
      "\u001b[1;31mAttributeError\u001b[0m: 'Encapsulation' object has no attribute '__secret'"
     ]
    }
   ],
   "source": [
    "class Encapsulation:\n",
    "    def __init__(self, name, project):\n",
    "        self.name = name\n",
    "        self.project = project\n",
    "        # self.secret = \"password\"\n",
    "\n",
    "        #now create with encapsulation\n",
    "        self.__secret = \"PPassword\"\n",
    "\n",
    "#creating object of the class\n",
    "enp = Encapsulation(\"Shahriar\", 1)\n",
    "\n",
    "print(\"Before Name: \", enp.__secret)\n",
    "\n",
    "# enp.secret = \"New value\"\n",
    "# print(\"After Name: \", enp.secret)\n"
   ]
  },
  {
   "cell_type": "markdown",
   "metadata": {},
   "source": [
    " # Polymorphism"
   ]
  },
  {
   "cell_type": "code",
   "execution_count": null,
   "metadata": {},
   "outputs": [
    {
     "name": "stdout",
     "output_type": "stream",
     "text": [
      "30\n"
     ]
    }
   ],
   "source": [
    "#Operator Polymorphism\n",
    "int1 = 10\n",
    "int2 = 20\n",
    "\n",
    "print(int1 + int2)"
   ]
  },
  {
   "cell_type": "code",
   "execution_count": null,
   "metadata": {},
   "outputs": [
    {
     "name": "stdout",
     "output_type": "stream",
     "text": [
      "Shahriar Islam\n"
     ]
    }
   ],
   "source": [
    "str1 = 'Shahriar'\n",
    "str2 = ' Islam'\n",
    "\n",
    "print(str1 + str2)"
   ]
  },
  {
   "cell_type": "code",
   "execution_count": null,
   "metadata": {},
   "outputs": [],
   "source": [
    "class Lion:\n",
    "    def diet(self):\n",
    "        print(\"Meat\")\n",
    "\n",
    "class Giraffe:\n",
    "    def diet(self):\n",
    "        print(\"Leafe\")\n",
    "\n",
    "obj_lion = Lion()\n",
    "obj_giraffe = Giraffe()"
   ]
  },
  {
   "cell_type": "code",
   "execution_count": null,
   "metadata": {},
   "outputs": [
    {
     "name": "stdout",
     "output_type": "stream",
     "text": [
      "Meat\n",
      "Leafe\n"
     ]
    }
   ],
   "source": [
    "obj_lion.diet()\n",
    "\n",
    "obj_giraffe.diet()"
   ]
  },
  {
   "cell_type": "markdown",
   "metadata": {},
   "source": [
    "# Inheritance"
   ]
  },
  {
   "cell_type": "code",
   "execution_count": null,
   "metadata": {},
   "outputs": [],
   "source": [
    "#Parent Class\n",
    "class Person:\n",
    "    def __init__(self, name, id):\n",
    "        self.name = name\n",
    "        self.id = id\n",
    "\n",
    "    def display(self):\n",
    "        print(\"Parent class function: \", self.name, self.id)\n",
    "\n",
    "    def is_employee(self):\n",
    "        return False"
   ]
  },
  {
   "cell_type": "code",
   "execution_count": null,
   "metadata": {},
   "outputs": [],
   "source": [
    "# Child Class\n",
    "class Emp(Person):\n",
    "    def is_employee(self):\n",
    "        return True"
   ]
  },
  {
   "cell_type": "code",
   "execution_count": 78,
   "metadata": {},
   "outputs": [
    {
     "name": "stdout",
     "output_type": "stream",
     "text": [
      "Parent class function:  Shahriar ID\n"
     ]
    },
    {
     "data": {
      "text/plain": [
       "True"
      ]
     },
     "execution_count": 78,
     "metadata": {},
     "output_type": "execute_result"
    }
   ],
   "source": [
    "obj_emp = Emp(\"Shahriar\", \"ID\")\n",
    "\n",
    "obj_emp.display()\n",
    "obj_emp.is_employee()"
   ]
  }
 ],
 "metadata": {
  "kernelspec": {
   "display_name": "Python 3",
   "language": "python",
   "name": "python3"
  },
  "language_info": {
   "codemirror_mode": {
    "name": "ipython",
    "version": 3
   },
   "file_extension": ".py",
   "mimetype": "text/x-python",
   "name": "python",
   "nbconvert_exporter": "python",
   "pygments_lexer": "ipython3",
   "version": "3.8.6"
  }
 },
 "nbformat": 4,
 "nbformat_minor": 2
}
