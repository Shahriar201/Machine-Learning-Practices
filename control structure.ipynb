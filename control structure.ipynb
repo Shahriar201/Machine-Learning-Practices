{
 "cells": [
  {
   "cell_type": "markdown",
   "metadata": {},
   "source": [
    "Selection\n",
    "#Comparision (==, !=, >, <, >=, <=>)   "
   ]
  },
  {
   "cell_type": "code",
   "execution_count": 6,
   "metadata": {},
   "outputs": [
    {
     "name": "stdout",
     "output_type": "stream",
     "text": [
      "x > y is False\n",
      "x < y is True\n",
      "x == y is False\n",
      "x >= y is False\n",
      "x <= y is True\n",
      "x != y is True\n"
     ]
    }
   ],
   "source": [
    "x = 10\n",
    "y = 12\n",
    "\n",
    "# Output is false\n",
    "print('x > y is', x > y)\n",
    "\n",
    "# Output is true\n",
    "print('x < y is', x < y)\n",
    "\n",
    "# Output is false\n",
    "print('x == y is', x == y)\n",
    "\n",
    "# Output is false\n",
    "print('x >= y is', x >= y)\n",
    "\n",
    "# Output is true\n",
    "print('x <= y is', x <= y)\n",
    "\n",
    "# Output is true\n",
    "print('x != y is', x != y)"
   ]
  },
  {
   "cell_type": "code",
   "execution_count": 10,
   "metadata": {},
   "outputs": [
    {
     "name": "stdout",
     "output_type": "stream",
     "text": [
      "x is not None False\n"
     ]
    }
   ],
   "source": [
    "# Output is true\n",
    "x = 10\n",
    "\n",
    "print('x is not None', x is not None)"
   ]
  },
  {
   "cell_type": "markdown",
   "metadata": {},
   "source": [
    "Selection Example"
   ]
  },
  {
   "cell_type": "code",
   "execution_count": 18,
   "metadata": {},
   "outputs": [
    {
     "name": "stdout",
     "output_type": "stream",
     "text": [
      "a and b is equal\n",
      "a ---> 33\n",
      "b ---> 33\n"
     ]
    }
   ],
   "source": [
    "a = 33\n",
    "b = 33\n",
    "\n",
    "if b > a:\n",
    "    print(\"b is grater than a\")\n",
    "    print(f\"a ---> {a}\")\n",
    "    print(f\"b ---> {b}\")\n",
    "\n",
    "elif b < a:\n",
    "    print(\"a is grater than b\")\n",
    "    print(f\"a ---> {a}\")\n",
    "    print(f\"b ---> {b}\")\n",
    "\n",
    "else:\n",
    "    print(\"a and b is equal\")\n",
    "    print(f\"a ---> {a}\")\n",
    "    print(f\"b ---> {b}\")"
   ]
  },
  {
   "cell_type": "markdown",
   "metadata": {},
   "source": [
    "Logical Operation and or not    "
   ]
  },
  {
   "cell_type": "code",
   "execution_count": 21,
   "metadata": {},
   "outputs": [
    {
     "name": "stdout",
     "output_type": "stream",
     "text": [
      "x and y is False\n",
      "x or y is True\n",
      "not x is True\n"
     ]
    }
   ],
   "source": [
    "x = True\n",
    "y = False\n",
    "\n",
    "print(\"x and y is\", x and y)\n",
    "print(\"x or y is\", x or y)\n",
    "print(\"not x is\", not y)"
   ]
  },
  {
   "cell_type": "code",
   "execution_count": 28,
   "metadata": {},
   "outputs": [
    {
     "name": "stdout",
     "output_type": "stream",
     "text": [
      "b is grater than a\n"
     ]
    }
   ],
   "source": [
    "# added to python in version 2.5\n",
    "a = 3\n",
    "b = 4\n",
    "\n",
    "# single line if else\n",
    "print(\"b is grater than a\") if b > a else print(\"a is grater than b\")"
   ]
  },
  {
   "cell_type": "code",
   "execution_count": 1,
   "metadata": {},
   "outputs": [
    {
     "name": "stdout",
     "output_type": "stream",
     "text": [
      "A is positive\n",
      "3\n"
     ]
    }
   ],
   "source": [
    "import random\n",
    "random_number = random.randint(-5, 5)\n",
    "\n",
    "if random_number == 0:\n",
    "    print(\"A is zero\")\n",
    "elif random_number < 0:\n",
    "    print(\"A is negative\")\n",
    "elif random_number > 0:\n",
    "    print(\"A is positive\")\n",
    "\n",
    "print(random_number)"
   ]
  },
  {
   "cell_type": "markdown",
   "metadata": {},
   "source": [
    "Repetation or Iteration"
   ]
  },
  {
   "cell_type": "code",
   "execution_count": 69,
   "metadata": {},
   "outputs": [
    {
     "name": "stdout",
     "output_type": "stream",
     "text": [
      "1\n",
      "4\n",
      "9\n",
      "16\n",
      "25\n",
      "36\n",
      "Loop end!\n"
     ]
    }
   ],
   "source": [
    "my_lists = [1, 2, 3, 4, 5, 6]\n",
    "\n",
    "# for loop for iteration\n",
    "for item in my_lists:\n",
    "    item **= 2 # item = item ** 2\n",
    "    \n",
    "    print(item)\n",
    "\n",
    "print(\"Loop end!\")"
   ]
  },
  {
   "cell_type": "code",
   "execution_count": 2,
   "metadata": {},
   "outputs": [
    {
     "name": "stdout",
     "output_type": "stream",
     "text": [
      "1\n",
      "2\n",
      "3\n",
      "While loop end!\n"
     ]
    }
   ],
   "source": [
    "itr = 1\n",
    "\n",
    "while itr < 4:\n",
    "    print(itr)\n",
    "    itr += 1\n",
    "\n",
    "print(\"While loop end!\")"
   ]
  },
  {
   "cell_type": "code",
   "execution_count": 5,
   "metadata": {},
   "outputs": [
    {
     "name": "stdout",
     "output_type": "stream",
     "text": [
      "1\n",
      "2\n",
      "3\n",
      "4\n",
      "5\n"
     ]
    }
   ],
   "source": [
    "i = 0\n",
    "\n",
    "while True:\n",
    "    i += 1\n",
    "    print(i)\n",
    "\n",
    "    if i == 5:\n",
    "        break"
   ]
  },
  {
   "cell_type": "code",
   "execution_count": 19,
   "metadata": {},
   "outputs": [
    {
     "name": "stdout",
     "output_type": "stream",
     "text": [
      "1\n",
      "2 is even\n",
      "3\n",
      "4 is even\n",
      "5\n",
      "6 is even\n",
      "7\n",
      "8 is even\n",
      "Out of loop\n"
     ]
    }
   ],
   "source": [
    "# continue example\n",
    "my_list = [1, 2, 3, 4, 5, 6, 7, 8]\n",
    "\n",
    "for item in my_list:\n",
    "    if item % 2 == 0:\n",
    "        print(f'{item} is even')\n",
    "        continue\n",
    "\n",
    "    print(item)\n",
    "\n",
    "print(\"Out of loop\")"
   ]
  },
  {
   "cell_type": "code",
   "execution_count": 20,
   "metadata": {},
   "outputs": [
    {
     "name": "stdout",
     "output_type": "stream",
     "text": [
      "index 0 value 1\n",
      "index 1 value 2\n",
      "index 2 value 3\n",
      "index 3 value 4\n",
      "index 4 value 5\n",
      "index 5 value 6\n",
      "index 6 value 7\n"
     ]
    }
   ],
   "source": [
    "my_list = [1, 2, 3, 4, 5, 6, 7]\n",
    "\n",
    "for idx , val in enumerate(my_list):\n",
    "    print(f'index {idx} value {val}')"
   ]
  },
  {
   "cell_type": "code",
   "execution_count": 22,
   "metadata": {},
   "outputs": [
    {
     "name": "stdout",
     "output_type": "stream",
     "text": [
      "0\n",
      "1\n",
      "2\n",
      "3\n",
      "4\n"
     ]
    }
   ],
   "source": [
    "# range print the value until n-1\n",
    "for number in range(0, 5):\n",
    "    print(number)"
   ]
  },
  {
   "cell_type": "code",
   "execution_count": 49,
   "metadata": {},
   "outputs": [
    {
     "name": "stdout",
     "output_type": "stream",
     "text": [
      "*\n",
      "**\n",
      "***\n",
      "****\n",
      "*****\n",
      "******\n",
      "*******\n",
      "********\n",
      "*********\n",
      "**********\n"
     ]
    }
   ],
   "source": [
    "# print pattern\n",
    "for star_count in range(1, 11):\n",
    "    print(\"*\" * star_count)"
   ]
  },
  {
   "cell_type": "code",
   "execution_count": 6,
   "metadata": {},
   "outputs": [
    {
     "name": "stdout",
     "output_type": "stream",
     "text": [
      "1  \n",
      "2  3  \n",
      "4  5  6  \n",
      "7  8  9  10  \n"
     ]
    }
   ],
   "source": [
    "num = 1\n",
    "\n",
    "# define number of row\n",
    "for i in range(4):\n",
    "    for j in range(i+1):\n",
    "        print(num, end = \"  \")\n",
    "        num +=1\n",
    "\n",
    "    print()"
   ]
  }
 ],
 "metadata": {
  "kernelspec": {
   "display_name": "Python 3",
   "language": "python",
   "name": "python3"
  },
  "language_info": {
   "codemirror_mode": {
    "name": "ipython",
    "version": 3
   },
   "file_extension": ".py",
   "mimetype": "text/x-python",
   "name": "python",
   "nbconvert_exporter": "python",
   "pygments_lexer": "ipython3",
   "version": "3.8.6"
  },
  "orig_nbformat": 4
 },
 "nbformat": 4,
 "nbformat_minor": 2
}
