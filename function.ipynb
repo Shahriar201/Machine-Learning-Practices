{
 "cells": [
  {
   "cell_type": "markdown",
   "metadata": {},
   "source": [
    "Function"
   ]
  },
  {
   "cell_type": "code",
   "execution_count": 42,
   "metadata": {},
   "outputs": [],
   "source": [
    "# smile function\n",
    "def smile():\n",
    "    print(' :)')\n",
    "    print(\"Hello from a function\")"
   ]
  },
  {
   "cell_type": "code",
   "execution_count": 43,
   "metadata": {},
   "outputs": [
    {
     "name": "stdout",
     "output_type": "stream",
     "text": [
      " :)\n",
      "Hello from a function\n"
     ]
    }
   ],
   "source": [
    "# call the function\n",
    "smile()"
   ]
  },
  {
   "cell_type": "markdown",
   "metadata": {},
   "source": [
    "Function parameter"
   ]
  },
  {
   "cell_type": "code",
   "execution_count": 44,
   "metadata": {},
   "outputs": [],
   "source": [
    "# function with argument or parameter\n",
    "def say_hello(name):\n",
    "    print(f\"Hello {name}\")"
   ]
  },
  {
   "cell_type": "code",
   "execution_count": 45,
   "metadata": {},
   "outputs": [
    {
     "name": "stdout",
     "output_type": "stream",
     "text": [
      "Hello Shahriar\n"
     ]
    }
   ],
   "source": [
    "# call the say_hello function\n",
    "say_hello(\"Shahriar\")"
   ]
  },
  {
   "cell_type": "code",
   "execution_count": 46,
   "metadata": {},
   "outputs": [],
   "source": [
    "def user(name, age):\n",
    "    print(f\"My name is {name}\")\n",
    "    print(f\"I am {age} years old\")"
   ]
  },
  {
   "cell_type": "code",
   "execution_count": 47,
   "metadata": {},
   "outputs": [
    {
     "name": "stdout",
     "output_type": "stream",
     "text": [
      "My name is Sagar\n",
      "I am 26 years old\n"
     ]
    }
   ],
   "source": [
    "# call the function\n",
    "user(\"Sagar\", 26)"
   ]
  },
  {
   "cell_type": "code",
   "execution_count": 48,
   "metadata": {},
   "outputs": [
    {
     "name": "stdout",
     "output_type": "stream",
     "text": [
      "My name is Shahriar\n",
      "I am 20 years old\n"
     ]
    }
   ],
   "source": [
    "user(age = 20, name = \"Shahriar\")"
   ]
  },
  {
   "cell_type": "markdown",
   "metadata": {},
   "source": [
    "N numbers of arguments or paramenters"
   ]
  },
  {
   "cell_type": "code",
   "execution_count": null,
   "metadata": {},
   "outputs": [],
   "source": []
  },
  {
   "cell_type": "code",
   "execution_count": 49,
   "metadata": {},
   "outputs": [],
   "source": [
    "# n numbers of arguments or parameters\n",
    "def user_v2(name, age, *extra):\n",
    "    print(f\"User name {name}\")\n",
    "    print(f\"User age {age}\")\n",
    "\n",
    "    print(type(extra))\n",
    "    print('Extra param', extra)\n",
    "\n",
    "    # access the extra value at list one\n",
    "    for value in extra:\n",
    "        print('Extra param', value)"
   ]
  },
  {
   "cell_type": "code",
   "execution_count": 50,
   "metadata": {},
   "outputs": [
    {
     "name": "stdout",
     "output_type": "stream",
     "text": [
      "User name Shahriar\n",
      "User age 20\n",
      "<class 'tuple'>\n",
      "Extra param ('extra_1', 'extra_2', 3, 5, 6, 7, 8.6)\n",
      "Extra param extra_1\n",
      "Extra param extra_2\n",
      "Extra param 3\n",
      "Extra param 5\n",
      "Extra param 6\n",
      "Extra param 7\n",
      "Extra param 8.6\n"
     ]
    }
   ],
   "source": [
    "user_v2(\"Shahriar\", 20, \"extra_1\", \"extra_2\", 3, 5, 6, 7, 8.6)"
   ]
  },
  {
   "cell_type": "markdown",
   "metadata": {},
   "source": [
    "Default value in for arg or param"
   ]
  },
  {
   "cell_type": "code",
   "execution_count": 54,
   "metadata": {},
   "outputs": [
    {
     "name": "stdout",
     "output_type": "stream",
     "text": [
      "I'm from Bangladesh\n"
     ]
    }
   ],
   "source": [
    "def my_country(country = 'Bangladesh'):\n",
    "    print(f\"I'm from {country}\")\n",
    "\n",
    "my_country()"
   ]
  },
  {
   "cell_type": "code",
   "execution_count": 57,
   "metadata": {},
   "outputs": [
    {
     "data": {
      "text/plain": [
       "5.1"
      ]
     },
     "execution_count": 57,
     "metadata": {},
     "output_type": "execute_result"
    }
   ],
   "source": [
    "# return\n",
    "def calculate_sum(num1, num2):\n",
    "\n",
    "    '''_summary_ \n",
    "\n",
    "    Parameters\n",
    "    ----------\n",
    "    val1: int/float\n",
    "        _description_\n",
    "\n",
    "    val2: _type_\n",
    "          _description_\n",
    "        \n",
    "    Returns\n",
    "    --------\n",
    "    _type_\n",
    "    _description_\n",
    "    '''\n",
    "\n",
    "    result = num1 + num2\n",
    "\n",
    "    return result\n",
    "\n",
    "# call the founction\n",
    "calculate_sum(3.1, 2)"
   ]
  },
  {
   "cell_type": "code",
   "execution_count": 59,
   "metadata": {},
   "outputs": [
    {
     "name": "stdout",
     "output_type": "stream",
     "text": [
      "Help on function calculate_sum in module __main__:\n",
      "\n",
      "calculate_sum(num1, num2)\n",
      "    _summary_ \n",
      "    \n",
      "    Parameters\n",
      "    ----------\n",
      "    val1: int/float\n",
      "        _description_\n",
      "    \n",
      "    val2: _type_\n",
      "          _description_\n",
      "        \n",
      "    Returns\n",
      "    --------\n",
      "    _type_\n",
      "    _description_\n",
      "\n"
     ]
    }
   ],
   "source": [
    "# show doc string using the help function\n",
    "help(calculate_sum)"
   ]
  },
  {
   "cell_type": "markdown",
   "metadata": {},
   "source": [
    "# Task\n",
    "Even odd check using function. There will be one param"
   ]
  },
  {
   "cell_type": "code",
   "execution_count": 69,
   "metadata": {},
   "outputs": [
    {
     "name": "stdout",
     "output_type": "stream",
     "text": [
      "100 is even\n"
     ]
    },
    {
     "data": {
      "text/plain": [
       "100"
      ]
     },
     "execution_count": 69,
     "metadata": {},
     "output_type": "execute_result"
    }
   ],
   "source": [
    "# define a function to check even or odd\n",
    "def even_odd(num):\n",
    "    if (num % 2 == 0):\n",
    "        print(f\"{num} is even\")\n",
    "    else:\n",
    "        print(f\"{num} is odd\")\n",
    "    \n",
    "    return num\n",
    "\n",
    "# call the function\n",
    "even_odd(100)"
   ]
  },
  {
   "cell_type": "markdown",
   "metadata": {},
   "source": [
    "# Single line function"
   ]
  },
  {
   "cell_type": "code",
   "execution_count": 72,
   "metadata": {},
   "outputs": [
    {
     "data": {
      "text/plain": [
       "16"
      ]
     },
     "execution_count": 72,
     "metadata": {},
     "output_type": "execute_result"
    }
   ],
   "source": [
    "def sqr(value): return value**2\n",
    "\n",
    "# call the function\n",
    "sqr(4)"
   ]
  },
  {
   "cell_type": "markdown",
   "metadata": {},
   "source": [
    "# Lamda function"
   ]
  },
  {
   "cell_type": "code",
   "execution_count": 76,
   "metadata": {},
   "outputs": [
    {
     "data": {
      "text/plain": [
       "4"
      ]
     },
     "execution_count": 76,
     "metadata": {},
     "output_type": "execute_result"
    }
   ],
   "source": [
    "sqr = lambda a : a**2\n",
    "\n",
    "# call the function\n",
    "sqr(2)"
   ]
  },
  {
   "cell_type": "markdown",
   "metadata": {},
   "source": [
    "# Calculate sum with Lamda function"
   ]
  },
  {
   "cell_type": "code",
   "execution_count": 77,
   "metadata": {},
   "outputs": [
    {
     "data": {
      "text/plain": [
       "9"
      ]
     },
     "execution_count": 77,
     "metadata": {},
     "output_type": "execute_result"
    }
   ],
   "source": [
    "calculate_sum = lambda val1, val2: val1 + val2\n",
    "\n",
    "# call the function\n",
    "calculate_sum(3, 6)"
   ]
  }
 ],
 "metadata": {
  "kernelspec": {
   "display_name": "Python 3",
   "language": "python",
   "name": "python3"
  },
  "language_info": {
   "codemirror_mode": {
    "name": "ipython",
    "version": 3
   },
   "file_extension": ".py",
   "mimetype": "text/x-python",
   "name": "python",
   "nbconvert_exporter": "python",
   "pygments_lexer": "ipython3",
   "version": "3.8.6"
  }
 },
 "nbformat": 4,
 "nbformat_minor": 2
}
